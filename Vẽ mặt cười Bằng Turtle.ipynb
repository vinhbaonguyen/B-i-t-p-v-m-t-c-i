{
 "cells": [
  {
   "cell_type": "code",
   "execution_count": null,
   "id": "6f447d9f",
   "metadata": {},
   "outputs": [],
   "source": [
    "import turtle\n",
    "pen=turtle.Turtle()\n",
    "\n",
    "#pen-setup\n",
    "pen.pensize(5)\n",
    "pen.pencolor('blue')\n",
    "\n",
    "face_size=200\n",
    "eye_size=40\n",
    "\n",
    "#draw-face\n",
    "pen.penup()\n",
    "pen.goto(0,-200)\n",
    "pen.pendown()\n",
    "pen.circle(face_size)\n",
    "\n",
    "#draw-eyes\n",
    "\n",
    "pen.penup()\n",
    "pen.goto(-100,50)\n",
    "pen.pendown()\n",
    "pen.circle(eye_size)\n",
    "\n",
    "pen.penup()\n",
    "pen.goto(100,50)\n",
    "pen.pendown()\n",
    "pen.circle(eye_size)\n",
    "\n",
    "\n",
    "#draw-nooze\n",
    "\n",
    "pen.penup()\n",
    "pen.goto(0,50)\n",
    "pen.pendown()\n",
    "pen.circle(-70,steps=3)  # vẽ tam giác đều\n",
    "\n",
    "#draw_smiling_mouth\n",
    "pen.speed(2)\n",
    "pen.penup()\n",
    "pen.goto(-100,-70)\n",
    "pen.pendown()\n",
    "pen.right(90)\n",
    "pen.circle(100,180)  # vẽ đường tròn bán kính =100 ,180 =1/2 đường tròn\n",
    "\n",
    "\n",
    "turtle.done()\n"
   ]
  }
 ],
 "metadata": {
  "kernelspec": {
   "display_name": "Python 3 (ipykernel)",
   "language": "python",
   "name": "python3"
  },
  "language_info": {
   "codemirror_mode": {
    "name": "ipython",
    "version": 3
   },
   "file_extension": ".py",
   "mimetype": "text/x-python",
   "name": "python",
   "nbconvert_exporter": "python",
   "pygments_lexer": "ipython3",
   "version": "3.11.1"
  }
 },
 "nbformat": 4,
 "nbformat_minor": 5
}
